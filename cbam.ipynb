{
 "cells": [
  {
   "cell_type": "code",
   "execution_count": null,
   "id": "61e856c5",
   "metadata": {},
   "outputs": [],
   "source": [
    "import tensorflow as tf"
   ]
  },
  {
   "cell_type": "code",
   "execution_count": null,
   "id": "8f54853c",
   "metadata": {},
   "outputs": [],
   "source": [
    "def ChannelAttention(inputs):\n",
    "    m = tf.keras.layers.GlobalMaxPooling2D()(inputs)\n",
    "    \n",
    "    a = tf.keras.layers.GlobalAveragePooling2D()(inputs)\n",
    "    \n",
    "    mc = tf.keras.layers.Dense(64//16)(m)\n",
    "    mc = tf.keras.layers.Activation('relu')(mc)\n",
    "    mc = tf.keras.layers.Dense(64)(mc)\n",
    "    \n",
    "    ac = tf.keras.layers.Dense(64//16)(a)\n",
    "    ac = tf.keras.layers.Activation('relu')(ac)\n",
    "    ac = tf.keras.layers.Dense(64)(ac)\n",
    "    \n",
    "    add = mc + ac\n",
    "    add = tf.keras.layers.Activation('sigmoid')(add)\n",
    "    x = inputs * add\n",
    "    return x"
   ]
  },
  {
   "cell_type": "code",
   "execution_count": null,
   "id": "9a2c0be5",
   "metadata": {},
   "outputs": [],
   "source": [
    "def SpatialAttention(inputs):\n",
    "    m = tf.math.reduce_max(inputs, axis=-1, keepdims=True)\n",
    "    a = tf.math.reduce_mean(inputs, axis=-1, keepdims=True)\n",
    "    \n",
    "    x = tf.keras.layers.Concatenate(axis=-1)([m, a])\n",
    "    x = tf.keras.layers.Conv2D(filters=1, kernel_size=7, strides=1, padding='same', kernel_initializer='he_normal')(x)\n",
    "    x = tf.keras.layers.Activation('sigmoid')(x)\n",
    "    x = inputs * x\n",
    "    return x"
   ]
  }
 ],
 "metadata": {
  "kernelspec": {
   "display_name": "Python 3",
   "language": "python",
   "name": "python3"
  },
  "language_info": {
   "codemirror_mode": {
    "name": "ipython",
    "version": 3
   },
   "file_extension": ".py",
   "mimetype": "text/x-python",
   "name": "python",
   "nbconvert_exporter": "python",
   "pygments_lexer": "ipython3",
   "version": "3.8.8"
  }
 },
 "nbformat": 4,
 "nbformat_minor": 5
}
